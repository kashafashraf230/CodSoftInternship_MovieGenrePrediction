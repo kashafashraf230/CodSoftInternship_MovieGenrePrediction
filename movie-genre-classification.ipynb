{
 "cells": [
  {
   "cell_type": "code",
   "execution_count": 1,
   "id": "144b95ca",
   "metadata": {
    "execution": {
     "iopub.execute_input": "2023-11-10T16:02:58.065072Z",
     "iopub.status.busy": "2023-11-10T16:02:58.064475Z",
     "iopub.status.idle": "2023-11-10T16:03:02.163893Z",
     "shell.execute_reply": "2023-11-10T16:03:02.162732Z"
    },
    "papermill": {
     "duration": 4.110696,
     "end_time": "2023-11-10T16:03:02.166762",
     "exception": false,
     "start_time": "2023-11-10T16:02:58.056066",
     "status": "completed"
    },
    "tags": []
   },
   "outputs": [],
   "source": [
    "#important imports\n",
    "import pandas as pd\n",
    "import numpy as np\n",
    "import matplotlib.pyplot as plt\n",
    "import seaborn as sns\n",
    "import re\n",
    "import plotly.express as px\n",
    "from sklearn.feature_extraction.text import TfidfVectorizer\n",
    "from nltk.tokenize import word_tokenize\n",
    "from nltk.stem import WordNetLemmatizer\n",
    "from nltk.corpus import stopwords"
   ]
  },
  {
   "cell_type": "code",
   "execution_count": 2,
   "id": "b5e057f5",
   "metadata": {
    "execution": {
     "iopub.execute_input": "2023-11-10T16:03:02.180889Z",
     "iopub.status.busy": "2023-11-10T16:03:02.180288Z",
     "iopub.status.idle": "2023-11-10T16:03:03.886558Z",
     "shell.execute_reply": "2023-11-10T16:03:03.885785Z"
    },
    "papermill": {
     "duration": 1.716044,
     "end_time": "2023-11-10T16:03:03.888961",
     "exception": false,
     "start_time": "2023-11-10T16:03:02.172917",
     "status": "completed"
    },
    "tags": []
   },
   "outputs": [
    {
     "name": "stdout",
     "output_type": "stream",
     "text": [
      "[nltk_data] Downloading package punkt to /content/nltk_data...\n",
      "[nltk_data]   Unzipping tokenizers/punkt.zip.\n",
      "[nltk_data] Downloading package stopwords to /content/nltk_data...\n",
      "[nltk_data]   Unzipping corpora/stopwords.zip.\n",
      "[nltk_data] Downloading package wordnet to /content/nltk_data...\n"
     ]
    },
    {
     "data": {
      "text/plain": [
       "True"
      ]
     },
     "execution_count": 2,
     "metadata": {},
     "output_type": "execute_result"
    }
   ],
   "source": [
    "#nlp downloads for data preprocessing\n",
    "import nltk\n",
    "import os\n",
    "\n",
    "# Set the custom download path for NLTK data in Colab\n",
    "custom_download_path = '/content/nltk_data'\n",
    "\n",
    "# Make sure the directory exists; if not, create it\n",
    "os.makedirs(custom_download_path, exist_ok=True)\n",
    "\n",
    "# Append the custom download path to NLTK data path\n",
    "nltk.data.path.append(custom_download_path)\n",
    "\n",
    "# Download NLTK resources to the custom path\n",
    "nltk.download('punkt', download_dir=custom_download_path)\n",
    "nltk.download('stopwords', download_dir=custom_download_path)\n",
    "nltk.download('wordnet', download_dir=custom_download_path)"
   ]
  },
  {
   "cell_type": "code",
   "execution_count": 3,
   "id": "a7d736a2",
   "metadata": {
    "execution": {
     "iopub.execute_input": "2023-11-10T16:03:03.903167Z",
     "iopub.status.busy": "2023-11-10T16:03:03.902804Z",
     "iopub.status.idle": "2023-11-10T16:03:03.908450Z",
     "shell.execute_reply": "2023-11-10T16:03:03.907174Z"
    },
    "papermill": {
     "duration": 0.015369,
     "end_time": "2023-11-10T16:03:03.910616",
     "exception": false,
     "start_time": "2023-11-10T16:03:03.895247",
     "status": "completed"
    },
    "tags": []
   },
   "outputs": [],
   "source": [
    "# Filepaths\n",
    "description_path = \"/kaggle/input/genre-classification-dataset-imdb/Genre Classification Dataset/description.txt\"\n",
    "test_data_path = \"/kaggle/input/genre-classification-dataset-imdb/Genre Classification Dataset/test_data.txt\"\n",
    "test_data_sol_path = \"/kaggle/input/genre-classification-dataset-imdb/Genre Classification Dataset/test_data_solution.txt\"\n",
    "train_data_path = \"/kaggle/input/genre-classification-dataset-imdb/Genre Classification Dataset/train_data.txt\""
   ]
  },
  {
   "cell_type": "code",
   "execution_count": 4,
   "id": "096e5e8d",
   "metadata": {
    "execution": {
     "iopub.execute_input": "2023-11-10T16:03:03.925246Z",
     "iopub.status.busy": "2023-11-10T16:03:03.924528Z",
     "iopub.status.idle": "2023-11-10T16:03:03.952659Z",
     "shell.execute_reply": "2023-11-10T16:03:03.951354Z"
    },
    "papermill": {
     "duration": 0.038012,
     "end_time": "2023-11-10T16:03:03.955007",
     "exception": false,
     "start_time": "2023-11-10T16:03:03.916995",
     "status": "completed"
    },
    "tags": []
   },
   "outputs": [
    {
     "name": "stdout",
     "output_type": "stream",
     "text": [
      "Train data:\n",
      "ID ::: TITLE ::: GENRE ::: DESCRIPTION\n",
      "ID ::: TITLE ::: GENRE ::: DESCRIPTION\n",
      "ID ::: TITLE ::: GENRE ::: DESCRIPTION\n",
      "ID ::: TITLE ::: GENRE ::: DESCRIPTION\n",
      "\n",
      "Test data:\n",
      "ID ::: TITLE ::: DESCRIPTION\n",
      "ID ::: TITLE ::: DESCRIPTION\n",
      "ID ::: TITLE ::: DESCRIPTION\n",
      "ID ::: TITLE ::: DESCRIPTION\n",
      "\n",
      "Source:\n",
      "ftp://ftp.fu-berlin.de/pub/misc/movies/database/\n"
     ]
    }
   ],
   "source": [
    "#Reading Description for data understanding\n",
    "\n",
    "# Check if the file exists\n",
    "if os.path.exists(description_path):\n",
    "    # Open and read the file\n",
    "    with open(description_path, 'r') as file:\n",
    "        text_content = file.read()\n",
    "\n",
    "    # Close the file\n",
    "    file.close()\n",
    "\n",
    "    # Print the content\n",
    "    print(text_content)\n",
    "else:\n",
    "    print(\"The specified file does not exist.\")\n"
   ]
  },
  {
   "cell_type": "code",
   "execution_count": 5,
   "id": "3b7d2dfd",
   "metadata": {
    "execution": {
     "iopub.execute_input": "2023-11-10T16:03:03.970134Z",
     "iopub.status.busy": "2023-11-10T16:03:03.969764Z",
     "iopub.status.idle": "2023-11-10T16:03:04.150334Z",
     "shell.execute_reply": "2023-11-10T16:03:04.149514Z"
    },
    "papermill": {
     "duration": 0.19039,
     "end_time": "2023-11-10T16:03:04.152301",
     "exception": false,
     "start_time": "2023-11-10T16:03:03.961911",
     "status": "completed"
    },
    "tags": []
   },
   "outputs": [
    {
     "name": "stdout",
     "output_type": "stream",
     "text": [
      "shape (6000, 4)\n",
      "<class 'pandas.core.frame.DataFrame'>\n",
      "RangeIndex: 6000 entries, 0 to 5999\n",
      "Data columns (total 4 columns):\n",
      " #   Column       Non-Null Count  Dtype \n",
      "---  ------       --------------  ----- \n",
      " 0   Id           6000 non-null   int64 \n",
      " 1   Title        6000 non-null   object\n",
      " 2   Genre        6000 non-null   object\n",
      " 3   Description  6000 non-null   object\n",
      "dtypes: int64(1), object(3)\n",
      "memory usage: 187.6+ KB\n",
      "None\n",
      "<class 'pandas.core.frame.DataFrame'>\n"
     ]
    },
    {
     "data": {
      "text/html": [
       "<div>\n",
       "<style scoped>\n",
       "    .dataframe tbody tr th:only-of-type {\n",
       "        vertical-align: middle;\n",
       "    }\n",
       "\n",
       "    .dataframe tbody tr th {\n",
       "        vertical-align: top;\n",
       "    }\n",
       "\n",
       "    .dataframe thead th {\n",
       "        text-align: right;\n",
       "    }\n",
       "</style>\n",
       "<table border=\"1\" class=\"dataframe\">\n",
       "  <thead>\n",
       "    <tr style=\"text-align: right;\">\n",
       "      <th></th>\n",
       "      <th>Id</th>\n",
       "      <th>Title</th>\n",
       "      <th>Genre</th>\n",
       "      <th>Description</th>\n",
       "    </tr>\n",
       "  </thead>\n",
       "  <tbody>\n",
       "    <tr>\n",
       "      <th>0</th>\n",
       "      <td>1</td>\n",
       "      <td>Oscar et la dame rose (2009)</td>\n",
       "      <td>drama</td>\n",
       "      <td>Listening in to a conversation between his do...</td>\n",
       "    </tr>\n",
       "    <tr>\n",
       "      <th>1</th>\n",
       "      <td>2</td>\n",
       "      <td>Cupid (1997)</td>\n",
       "      <td>thriller</td>\n",
       "      <td>A brother and sister with a past incestuous r...</td>\n",
       "    </tr>\n",
       "    <tr>\n",
       "      <th>2</th>\n",
       "      <td>3</td>\n",
       "      <td>Young, Wild and Wonderful (1980)</td>\n",
       "      <td>adult</td>\n",
       "      <td>As the bus empties the students for their fie...</td>\n",
       "    </tr>\n",
       "    <tr>\n",
       "      <th>3</th>\n",
       "      <td>4</td>\n",
       "      <td>The Secret Sin (1915)</td>\n",
       "      <td>drama</td>\n",
       "      <td>To help their unemployed father make ends mee...</td>\n",
       "    </tr>\n",
       "    <tr>\n",
       "      <th>4</th>\n",
       "      <td>5</td>\n",
       "      <td>The Unrecovered (2007)</td>\n",
       "      <td>drama</td>\n",
       "      <td>The film's title refers not only to the un-re...</td>\n",
       "    </tr>\n",
       "  </tbody>\n",
       "</table>\n",
       "</div>"
      ],
      "text/plain": [
       "   Id                               Title       Genre  \\\n",
       "0   1       Oscar et la dame rose (2009)       drama    \n",
       "1   2                       Cupid (1997)    thriller    \n",
       "2   3   Young, Wild and Wonderful (1980)       adult    \n",
       "3   4              The Secret Sin (1915)       drama    \n",
       "4   5             The Unrecovered (2007)       drama    \n",
       "\n",
       "                                         Description  \n",
       "0   Listening in to a conversation between his do...  \n",
       "1   A brother and sister with a past incestuous r...  \n",
       "2   As the bus empties the students for their fie...  \n",
       "3   To help their unemployed father make ends mee...  \n",
       "4   The film's title refers not only to the un-re...  "
      ]
     },
     "execution_count": 5,
     "metadata": {},
     "output_type": "execute_result"
    }
   ],
   "source": [
    "## View train data\n",
    "train_data = pd.read_csv(train_data_path,sep=':::', header=None, engine='python',names=['Id','Title', 'Genre', 'Description'] ,nrows=6000)\n",
    " \n",
    "print(\"shape\",train_data.shape)\n",
    "\n",
    "print(train_data.info())\n",
    "print(type(train_data))\n",
    "train_data.head()"
   ]
  },
  {
   "cell_type": "code",
   "execution_count": 6,
   "id": "54a509dc",
   "metadata": {
    "execution": {
     "iopub.execute_input": "2023-11-10T16:03:04.167574Z",
     "iopub.status.busy": "2023-11-10T16:03:04.167127Z",
     "iopub.status.idle": "2023-11-10T16:03:05.053464Z",
     "shell.execute_reply": "2023-11-10T16:03:05.052572Z"
    },
    "papermill": {
     "duration": 0.896818,
     "end_time": "2023-11-10T16:03:05.055723",
     "exception": false,
     "start_time": "2023-11-10T16:03:04.158905",
     "status": "completed"
    },
    "tags": []
   },
   "outputs": [
    {
     "name": "stdout",
     "output_type": "stream",
     "text": [
      "shape (54200, 3)\n",
      "<class 'pandas.core.frame.DataFrame'>\n",
      "RangeIndex: 54200 entries, 0 to 54199\n",
      "Data columns (total 3 columns):\n",
      " #   Column       Non-Null Count  Dtype \n",
      "---  ------       --------------  ----- \n",
      " 0   Id           54200 non-null  int64 \n",
      " 1   Title        54200 non-null  object\n",
      " 2   Description  54200 non-null  object\n",
      "dtypes: int64(1), object(2)\n",
      "memory usage: 1.2+ MB\n",
      "None\n",
      "<class 'pandas.core.frame.DataFrame'>\n"
     ]
    },
    {
     "data": {
      "text/html": [
       "<div>\n",
       "<style scoped>\n",
       "    .dataframe tbody tr th:only-of-type {\n",
       "        vertical-align: middle;\n",
       "    }\n",
       "\n",
       "    .dataframe tbody tr th {\n",
       "        vertical-align: top;\n",
       "    }\n",
       "\n",
       "    .dataframe thead th {\n",
       "        text-align: right;\n",
       "    }\n",
       "</style>\n",
       "<table border=\"1\" class=\"dataframe\">\n",
       "  <thead>\n",
       "    <tr style=\"text-align: right;\">\n",
       "      <th></th>\n",
       "      <th>Id</th>\n",
       "      <th>Title</th>\n",
       "      <th>Description</th>\n",
       "    </tr>\n",
       "  </thead>\n",
       "  <tbody>\n",
       "    <tr>\n",
       "      <th>0</th>\n",
       "      <td>1</td>\n",
       "      <td>Edgar's Lunch (1998)</td>\n",
       "      <td>L.R. Brane loves his life - his car, his apar...</td>\n",
       "    </tr>\n",
       "    <tr>\n",
       "      <th>1</th>\n",
       "      <td>2</td>\n",
       "      <td>La guerra de papá (1977)</td>\n",
       "      <td>Spain, March 1964: Quico is a very naughty ch...</td>\n",
       "    </tr>\n",
       "    <tr>\n",
       "      <th>2</th>\n",
       "      <td>3</td>\n",
       "      <td>Off the Beaten Track (2010)</td>\n",
       "      <td>One year in the life of Albin and his family ...</td>\n",
       "    </tr>\n",
       "    <tr>\n",
       "      <th>3</th>\n",
       "      <td>4</td>\n",
       "      <td>Meu Amigo Hindu (2015)</td>\n",
       "      <td>His father has died, he hasn't spoken with hi...</td>\n",
       "    </tr>\n",
       "    <tr>\n",
       "      <th>4</th>\n",
       "      <td>5</td>\n",
       "      <td>Er nu zhai (1955)</td>\n",
       "      <td>Before he was known internationally as a mart...</td>\n",
       "    </tr>\n",
       "  </tbody>\n",
       "</table>\n",
       "</div>"
      ],
      "text/plain": [
       "   Id                          Title  \\\n",
       "0   1          Edgar's Lunch (1998)    \n",
       "1   2      La guerra de papá (1977)    \n",
       "2   3   Off the Beaten Track (2010)    \n",
       "3   4        Meu Amigo Hindu (2015)    \n",
       "4   5             Er nu zhai (1955)    \n",
       "\n",
       "                                         Description  \n",
       "0   L.R. Brane loves his life - his car, his apar...  \n",
       "1   Spain, March 1964: Quico is a very naughty ch...  \n",
       "2   One year in the life of Albin and his family ...  \n",
       "3   His father has died, he hasn't spoken with hi...  \n",
       "4   Before he was known internationally as a mart...  "
      ]
     },
     "execution_count": 6,
     "metadata": {},
     "output_type": "execute_result"
    }
   ],
   "source": [
    "## View test data\n",
    "test_data = pd.read_csv(test_data_path,sep=':::', header=None, engine='python')\n",
    " \n",
    "print(\"shape\",test_data.shape)\n",
    "# Give columns comprehensive names\n",
    "test_data.columns = ['Id','Title','Description']\n",
    "\n",
    "print(test_data.info())\n",
    "print(type(test_data))\n",
    "test_data.head()"
   ]
  },
  {
   "cell_type": "code",
   "execution_count": 7,
   "id": "a2ae56a6",
   "metadata": {
    "execution": {
     "iopub.execute_input": "2023-11-10T16:03:05.071369Z",
     "iopub.status.busy": "2023-11-10T16:03:05.070976Z",
     "iopub.status.idle": "2023-11-10T16:03:05.096674Z",
     "shell.execute_reply": "2023-11-10T16:03:05.095861Z"
    },
    "papermill": {
     "duration": 0.035863,
     "end_time": "2023-11-10T16:03:05.098673",
     "exception": false,
     "start_time": "2023-11-10T16:03:05.062810",
     "status": "completed"
    },
    "tags": []
   },
   "outputs": [
    {
     "data": {
      "text/plain": [
       "(6000, 4)"
      ]
     },
     "execution_count": 7,
     "metadata": {},
     "output_type": "execute_result"
    }
   ],
   "source": [
    "#Data Preprocessing \n",
    "#Remove Nulls and Duplicates\n",
    "train_data.dropna( inplace = True ) ## Will drop any null row if exists \n",
    "train_data.drop_duplicates(inplace = True)  ## Will drop any duplicates\n",
    "train_data.shape"
   ]
  },
  {
   "cell_type": "code",
   "execution_count": 8,
   "id": "8248ee9a",
   "metadata": {
    "execution": {
     "iopub.execute_input": "2023-11-10T16:03:05.115161Z",
     "iopub.status.busy": "2023-11-10T16:03:05.114083Z",
     "iopub.status.idle": "2023-11-10T16:03:05.129372Z",
     "shell.execute_reply": "2023-11-10T16:03:05.128605Z"
    },
    "papermill": {
     "duration": 0.02585,
     "end_time": "2023-11-10T16:03:05.131620",
     "exception": false,
     "start_time": "2023-11-10T16:03:05.105770",
     "status": "completed"
    },
    "tags": []
   },
   "outputs": [],
   "source": [
    "stopword = set(stopwords.words('english'))\n",
    "\n",
    "def preprocessing(text):\n",
    "    # Convert text to lowercase\n",
    "    text = text.lower()\n",
    "    \n",
    "    # Remove punctuation using regular expressions\n",
    "    text = re.sub(r'[^\\w\\s]', '', text)\n",
    "    \n",
    "    # Remove specific characters #, @, and $\n",
    "    text = re.sub(r'[#@\\$]', '', text)\n",
    "    \n",
    "    # tokenize and convert to list\n",
    "    tokens = word_tokenize(text)\n",
    "    \n",
    "    ## Lemmatize it \n",
    "    lemmatizer  = WordNetLemmatizer()\n",
    "    \n",
    "    ## lemmatize each token\n",
    "   # text = [lemmatizer.lemmatize(token) for token in tokens]\n",
    "    text = text.split()\n",
    "    \n",
    "    text = [word for word in text if word not in stopword]\n",
    "    \n",
    "    \n",
    "    return \" \".join(text)"
   ]
  },
  {
   "cell_type": "code",
   "execution_count": 9,
   "id": "c60b9526",
   "metadata": {
    "execution": {
     "iopub.execute_input": "2023-11-10T16:03:05.148029Z",
     "iopub.status.busy": "2023-11-10T16:03:05.147668Z",
     "iopub.status.idle": "2023-11-10T16:03:36.477047Z",
     "shell.execute_reply": "2023-11-10T16:03:36.475954Z"
    },
    "papermill": {
     "duration": 31.340938,
     "end_time": "2023-11-10T16:03:36.479634",
     "exception": false,
     "start_time": "2023-11-10T16:03:05.138696",
     "status": "completed"
    },
    "tags": []
   },
   "outputs": [],
   "source": [
    "## Create list of words in discription column\n",
    "train_data[\"Description_clean\"] =  train_data[\"Description\"].apply(preprocessing)\n",
    "test_data[\"Description_clean\"] =  test_data[\"Description\"].apply(preprocessing)"
   ]
  },
  {
   "cell_type": "code",
   "execution_count": 10,
   "id": "df0b0175",
   "metadata": {
    "execution": {
     "iopub.execute_input": "2023-11-10T16:03:36.495902Z",
     "iopub.status.busy": "2023-11-10T16:03:36.495013Z",
     "iopub.status.idle": "2023-11-10T16:03:36.506406Z",
     "shell.execute_reply": "2023-11-10T16:03:36.505364Z"
    },
    "papermill": {
     "duration": 0.022365,
     "end_time": "2023-11-10T16:03:36.508994",
     "exception": false,
     "start_time": "2023-11-10T16:03:36.486629",
     "status": "completed"
    },
    "tags": []
   },
   "outputs": [
    {
     "data": {
      "text/html": [
       "<div>\n",
       "<style scoped>\n",
       "    .dataframe tbody tr th:only-of-type {\n",
       "        vertical-align: middle;\n",
       "    }\n",
       "\n",
       "    .dataframe tbody tr th {\n",
       "        vertical-align: top;\n",
       "    }\n",
       "\n",
       "    .dataframe thead th {\n",
       "        text-align: right;\n",
       "    }\n",
       "</style>\n",
       "<table border=\"1\" class=\"dataframe\">\n",
       "  <thead>\n",
       "    <tr style=\"text-align: right;\">\n",
       "      <th></th>\n",
       "      <th>Id</th>\n",
       "      <th>Title</th>\n",
       "      <th>Genre</th>\n",
       "      <th>Description</th>\n",
       "      <th>Description_clean</th>\n",
       "    </tr>\n",
       "  </thead>\n",
       "  <tbody>\n",
       "    <tr>\n",
       "      <th>0</th>\n",
       "      <td>1</td>\n",
       "      <td>Oscar et la dame rose (2009)</td>\n",
       "      <td>drama</td>\n",
       "      <td>Listening in to a conversation between his do...</td>\n",
       "      <td>listening conversation doctor parents 10yearol...</td>\n",
       "    </tr>\n",
       "    <tr>\n",
       "      <th>1</th>\n",
       "      <td>2</td>\n",
       "      <td>Cupid (1997)</td>\n",
       "      <td>thriller</td>\n",
       "      <td>A brother and sister with a past incestuous r...</td>\n",
       "      <td>brother sister past incestuous relationship cu...</td>\n",
       "    </tr>\n",
       "    <tr>\n",
       "      <th>2</th>\n",
       "      <td>3</td>\n",
       "      <td>Young, Wild and Wonderful (1980)</td>\n",
       "      <td>adult</td>\n",
       "      <td>As the bus empties the students for their fie...</td>\n",
       "      <td>bus empties students field trip museum natural...</td>\n",
       "    </tr>\n",
       "    <tr>\n",
       "      <th>3</th>\n",
       "      <td>4</td>\n",
       "      <td>The Secret Sin (1915)</td>\n",
       "      <td>drama</td>\n",
       "      <td>To help their unemployed father make ends mee...</td>\n",
       "      <td>help unemployed father make ends meet edith tw...</td>\n",
       "    </tr>\n",
       "    <tr>\n",
       "      <th>4</th>\n",
       "      <td>5</td>\n",
       "      <td>The Unrecovered (2007)</td>\n",
       "      <td>drama</td>\n",
       "      <td>The film's title refers not only to the un-re...</td>\n",
       "      <td>films title refers unrecovered bodies ground z...</td>\n",
       "    </tr>\n",
       "  </tbody>\n",
       "</table>\n",
       "</div>"
      ],
      "text/plain": [
       "   Id                               Title       Genre  \\\n",
       "0   1       Oscar et la dame rose (2009)       drama    \n",
       "1   2                       Cupid (1997)    thriller    \n",
       "2   3   Young, Wild and Wonderful (1980)       adult    \n",
       "3   4              The Secret Sin (1915)       drama    \n",
       "4   5             The Unrecovered (2007)       drama    \n",
       "\n",
       "                                         Description  \\\n",
       "0   Listening in to a conversation between his do...   \n",
       "1   A brother and sister with a past incestuous r...   \n",
       "2   As the bus empties the students for their fie...   \n",
       "3   To help their unemployed father make ends mee...   \n",
       "4   The film's title refers not only to the un-re...   \n",
       "\n",
       "                                   Description_clean  \n",
       "0  listening conversation doctor parents 10yearol...  \n",
       "1  brother sister past incestuous relationship cu...  \n",
       "2  bus empties students field trip museum natural...  \n",
       "3  help unemployed father make ends meet edith tw...  \n",
       "4  films title refers unrecovered bodies ground z...  "
      ]
     },
     "execution_count": 10,
     "metadata": {},
     "output_type": "execute_result"
    }
   ],
   "source": [
    "train_data.head()"
   ]
  },
  {
   "cell_type": "code",
   "execution_count": 11,
   "id": "a4af5fed",
   "metadata": {
    "execution": {
     "iopub.execute_input": "2023-11-10T16:03:36.525347Z",
     "iopub.status.busy": "2023-11-10T16:03:36.524978Z",
     "iopub.status.idle": "2023-11-10T16:03:36.535805Z",
     "shell.execute_reply": "2023-11-10T16:03:36.534641Z"
    },
    "papermill": {
     "duration": 0.021491,
     "end_time": "2023-11-10T16:03:36.538080",
     "exception": false,
     "start_time": "2023-11-10T16:03:36.516589",
     "status": "completed"
    },
    "tags": []
   },
   "outputs": [
    {
     "data": {
      "text/html": [
       "<div>\n",
       "<style scoped>\n",
       "    .dataframe tbody tr th:only-of-type {\n",
       "        vertical-align: middle;\n",
       "    }\n",
       "\n",
       "    .dataframe tbody tr th {\n",
       "        vertical-align: top;\n",
       "    }\n",
       "\n",
       "    .dataframe thead th {\n",
       "        text-align: right;\n",
       "    }\n",
       "</style>\n",
       "<table border=\"1\" class=\"dataframe\">\n",
       "  <thead>\n",
       "    <tr style=\"text-align: right;\">\n",
       "      <th></th>\n",
       "      <th>Id</th>\n",
       "      <th>Title</th>\n",
       "      <th>Description</th>\n",
       "      <th>Description_clean</th>\n",
       "    </tr>\n",
       "  </thead>\n",
       "  <tbody>\n",
       "    <tr>\n",
       "      <th>0</th>\n",
       "      <td>1</td>\n",
       "      <td>Edgar's Lunch (1998)</td>\n",
       "      <td>L.R. Brane loves his life - his car, his apar...</td>\n",
       "      <td>lr brane loves life car apartment job especial...</td>\n",
       "    </tr>\n",
       "    <tr>\n",
       "      <th>1</th>\n",
       "      <td>2</td>\n",
       "      <td>La guerra de papá (1977)</td>\n",
       "      <td>Spain, March 1964: Quico is a very naughty ch...</td>\n",
       "      <td>spain march 1964 quico naughty child three bel...</td>\n",
       "    </tr>\n",
       "    <tr>\n",
       "      <th>2</th>\n",
       "      <td>3</td>\n",
       "      <td>Off the Beaten Track (2010)</td>\n",
       "      <td>One year in the life of Albin and his family ...</td>\n",
       "      <td>one year life albin family shepherds north tra...</td>\n",
       "    </tr>\n",
       "    <tr>\n",
       "      <th>3</th>\n",
       "      <td>4</td>\n",
       "      <td>Meu Amigo Hindu (2015)</td>\n",
       "      <td>His father has died, he hasn't spoken with hi...</td>\n",
       "      <td>father died hasnt spoken brother 10 years seri...</td>\n",
       "    </tr>\n",
       "    <tr>\n",
       "      <th>4</th>\n",
       "      <td>5</td>\n",
       "      <td>Er nu zhai (1955)</td>\n",
       "      <td>Before he was known internationally as a mart...</td>\n",
       "      <td>known internationally martial arts superstar b...</td>\n",
       "    </tr>\n",
       "  </tbody>\n",
       "</table>\n",
       "</div>"
      ],
      "text/plain": [
       "   Id                          Title  \\\n",
       "0   1          Edgar's Lunch (1998)    \n",
       "1   2      La guerra de papá (1977)    \n",
       "2   3   Off the Beaten Track (2010)    \n",
       "3   4        Meu Amigo Hindu (2015)    \n",
       "4   5             Er nu zhai (1955)    \n",
       "\n",
       "                                         Description  \\\n",
       "0   L.R. Brane loves his life - his car, his apar...   \n",
       "1   Spain, March 1964: Quico is a very naughty ch...   \n",
       "2   One year in the life of Albin and his family ...   \n",
       "3   His father has died, he hasn't spoken with hi...   \n",
       "4   Before he was known internationally as a mart...   \n",
       "\n",
       "                                   Description_clean  \n",
       "0  lr brane loves life car apartment job especial...  \n",
       "1  spain march 1964 quico naughty child three bel...  \n",
       "2  one year life albin family shepherds north tra...  \n",
       "3  father died hasnt spoken brother 10 years seri...  \n",
       "4  known internationally martial arts superstar b...  "
      ]
     },
     "execution_count": 11,
     "metadata": {},
     "output_type": "execute_result"
    }
   ],
   "source": [
    "test_data.head()"
   ]
  },
  {
   "cell_type": "code",
   "execution_count": 12,
   "id": "967715b2",
   "metadata": {
    "execution": {
     "iopub.execute_input": "2023-11-10T16:03:36.555254Z",
     "iopub.status.busy": "2023-11-10T16:03:36.554513Z",
     "iopub.status.idle": "2023-11-10T16:03:36.563174Z",
     "shell.execute_reply": "2023-11-10T16:03:36.562151Z"
    },
    "papermill": {
     "duration": 0.0198,
     "end_time": "2023-11-10T16:03:36.565361",
     "exception": false,
     "start_time": "2023-11-10T16:03:36.545561",
     "status": "completed"
    },
    "tags": []
   },
   "outputs": [
    {
     "data": {
      "text/plain": [
       "Genre\n",
       " drama           1481\n",
       " documentary     1459\n",
       " comedy           830\n",
       " short            559\n",
       " horror           235\n",
       " thriller         211\n",
       " action           146\n",
       " western          116\n",
       " reality-tv       100\n",
       " family            82\n",
       " adventure         82\n",
       " sci-fi            79\n",
       " music             75\n",
       " adult             73\n",
       " romance           58\n",
       " animation         54\n",
       " sport             51\n",
       " crime             48\n",
       " talk-show         41\n",
       " mystery           37\n",
       " biography         36\n",
       " fantasy           35\n",
       " musical           29\n",
       " history           27\n",
       " game-show         25\n",
       " news              18\n",
       " war               13\n",
       "Name: count, dtype: int64"
      ]
     },
     "execution_count": 12,
     "metadata": {},
     "output_type": "execute_result"
    }
   ],
   "source": [
    "train_data['Genre'].value_counts()"
   ]
  },
  {
   "cell_type": "code",
   "execution_count": 13,
   "id": "be2d8adf",
   "metadata": {
    "execution": {
     "iopub.execute_input": "2023-11-10T16:03:36.582280Z",
     "iopub.status.busy": "2023-11-10T16:03:36.581560Z",
     "iopub.status.idle": "2023-11-10T16:03:37.126767Z",
     "shell.execute_reply": "2023-11-10T16:03:37.125737Z"
    },
    "papermill": {
     "duration": 0.55625,
     "end_time": "2023-11-10T16:03:37.129062",
     "exception": false,
     "start_time": "2023-11-10T16:03:36.572812",
     "status": "completed"
    },
    "tags": []
   },
   "outputs": [
    {
     "data": {
      "image/png": "[encoded data removed]",
      "text/plain": [
       "<Figure size 1000x1000 with 1 Axes>"
      ]
     },
     "metadata": {},
     "output_type": "display_data"
    }
   ],
   "source": [
    "# visualize label counts\n",
    "train_data['Genre'].value_counts().plot(kind='pie', figsize=(10,10));"
   ]
  },
  {
   "cell_type": "code",
   "execution_count": 14,
   "id": "0824044b",
   "metadata": {
    "execution": {
     "iopub.execute_input": "2023-11-10T16:03:37.149620Z",
     "iopub.status.busy": "2023-11-10T16:03:37.149250Z",
     "iopub.status.idle": "2023-11-10T16:03:37.162388Z",
     "shell.execute_reply": "2023-11-10T16:03:37.161656Z"
    },
    "papermill": {
     "duration": 0.025851,
     "end_time": "2023-11-10T16:03:37.164503",
     "exception": false,
     "start_time": "2023-11-10T16:03:37.138652",
     "status": "completed"
    },
    "tags": []
   },
   "outputs": [
    {
     "data": {
      "text/html": [
       "<div>\n",
       "<style scoped>\n",
       "    .dataframe tbody tr th:only-of-type {\n",
       "        vertical-align: middle;\n",
       "    }\n",
       "\n",
       "    .dataframe tbody tr th {\n",
       "        vertical-align: top;\n",
       "    }\n",
       "\n",
       "    .dataframe thead th {\n",
       "        text-align: right;\n",
       "    }\n",
       "</style>\n",
       "<table border=\"1\" class=\"dataframe\">\n",
       "  <thead>\n",
       "    <tr style=\"text-align: right;\">\n",
       "      <th></th>\n",
       "      <th>Title</th>\n",
       "      <th>Genre</th>\n",
       "      <th>Description</th>\n",
       "      <th>Description_clean</th>\n",
       "    </tr>\n",
       "  </thead>\n",
       "  <tbody>\n",
       "    <tr>\n",
       "      <th>0</th>\n",
       "      <td>Oscar et la dame rose (2009)</td>\n",
       "      <td>drama</td>\n",
       "      <td>Listening in to a conversation between his do...</td>\n",
       "      <td>listening conversation doctor parents 10yearol...</td>\n",
       "    </tr>\n",
       "    <tr>\n",
       "      <th>1</th>\n",
       "      <td>Cupid (1997)</td>\n",
       "      <td>thriller</td>\n",
       "      <td>A brother and sister with a past incestuous r...</td>\n",
       "      <td>brother sister past incestuous relationship cu...</td>\n",
       "    </tr>\n",
       "    <tr>\n",
       "      <th>2</th>\n",
       "      <td>Young, Wild and Wonderful (1980)</td>\n",
       "      <td>adult</td>\n",
       "      <td>As the bus empties the students for their fie...</td>\n",
       "      <td>bus empties students field trip museum natural...</td>\n",
       "    </tr>\n",
       "    <tr>\n",
       "      <th>3</th>\n",
       "      <td>The Secret Sin (1915)</td>\n",
       "      <td>drama</td>\n",
       "      <td>To help their unemployed father make ends mee...</td>\n",
       "      <td>help unemployed father make ends meet edith tw...</td>\n",
       "    </tr>\n",
       "    <tr>\n",
       "      <th>4</th>\n",
       "      <td>The Unrecovered (2007)</td>\n",
       "      <td>drama</td>\n",
       "      <td>The film's title refers not only to the un-re...</td>\n",
       "      <td>films title refers unrecovered bodies ground z...</td>\n",
       "    </tr>\n",
       "  </tbody>\n",
       "</table>\n",
       "</div>"
      ],
      "text/plain": [
       "                                Title       Genre  \\\n",
       "0       Oscar et la dame rose (2009)       drama    \n",
       "1                       Cupid (1997)    thriller    \n",
       "2   Young, Wild and Wonderful (1980)       adult    \n",
       "3              The Secret Sin (1915)       drama    \n",
       "4             The Unrecovered (2007)       drama    \n",
       "\n",
       "                                         Description  \\\n",
       "0   Listening in to a conversation between his do...   \n",
       "1   A brother and sister with a past incestuous r...   \n",
       "2   As the bus empties the students for their fie...   \n",
       "3   To help their unemployed father make ends mee...   \n",
       "4   The film's title refers not only to the un-re...   \n",
       "\n",
       "                                   Description_clean  \n",
       "0  listening conversation doctor parents 10yearol...  \n",
       "1  brother sister past incestuous relationship cu...  \n",
       "2  bus empties students field trip museum natural...  \n",
       "3  help unemployed father make ends meet edith tw...  \n",
       "4  films title refers unrecovered bodies ground z...  "
      ]
     },
     "execution_count": 14,
     "metadata": {},
     "output_type": "execute_result"
    }
   ],
   "source": [
    "drop_data = train_data.drop([\"Id\"] , axis = 1) # will drop column \n",
    "drop_data.head()"
   ]
  },
  {
   "cell_type": "code",
   "execution_count": 15,
   "id": "cea8b5b8",
   "metadata": {
    "execution": {
     "iopub.execute_input": "2023-11-10T16:03:37.185591Z",
     "iopub.status.busy": "2023-11-10T16:03:37.184638Z",
     "iopub.status.idle": "2023-11-10T16:03:37.199258Z",
     "shell.execute_reply": "2023-11-10T16:03:37.198469Z"
    },
    "papermill": {
     "duration": 0.027532,
     "end_time": "2023-11-10T16:03:37.201497",
     "exception": false,
     "start_time": "2023-11-10T16:03:37.173965",
     "status": "completed"
    },
    "tags": []
   },
   "outputs": [],
   "source": [
    "#Using Naive Bayes' Multinomial\n",
    "#necessary libraries for Model Selection and Training\n",
    "\n",
    "from sklearn.svm import LinearSVC\n",
    "from sklearn.naive_bayes import MultinomialNB\n",
    "\n",
    "from sklearn.feature_extraction.text import CountVectorizer\n",
    "from sklearn.feature_extraction.text import TfidfVectorizer\n",
    "\n",
    "from sklearn.model_selection import train_test_split\n",
    "\n",
    "from sklearn.metrics import classification_report,confusion_matrix,ConfusionMatrixDisplay"
   ]
  },
  {
   "cell_type": "code",
   "execution_count": 16,
   "id": "dcca8b6d",
   "metadata": {
    "execution": {
     "iopub.execute_input": "2023-11-10T16:03:37.222708Z",
     "iopub.status.busy": "2023-11-10T16:03:37.222104Z",
     "iopub.status.idle": "2023-11-10T16:03:37.232247Z",
     "shell.execute_reply": "2023-11-10T16:03:37.231304Z"
    },
    "papermill": {
     "duration": 0.023134,
     "end_time": "2023-11-10T16:03:37.234213",
     "exception": false,
     "start_time": "2023-11-10T16:03:37.211079",
     "status": "completed"
    },
    "tags": []
   },
   "outputs": [
    {
     "data": {
      "text/plain": [
       "[' action ',\n",
       " ' adult ',\n",
       " ' adventure ',\n",
       " ' animation ',\n",
       " ' biography ',\n",
       " ' comedy ',\n",
       " ' crime ',\n",
       " ' documentary ',\n",
       " ' drama ',\n",
       " ' family ',\n",
       " ' fantasy ',\n",
       " ' game-show ',\n",
       " ' history ',\n",
       " ' horror ',\n",
       " ' music ',\n",
       " ' musical ',\n",
       " ' mystery ',\n",
       " ' news ',\n",
       " ' reality-tv ',\n",
       " ' romance ',\n",
       " ' sci-fi ',\n",
       " ' short ',\n",
       " ' sport ',\n",
       " ' talk-show ',\n",
       " ' thriller ',\n",
       " ' war ',\n",
       " ' western ']"
      ]
     },
     "execution_count": 16,
     "metadata": {},
     "output_type": "execute_result"
    }
   ],
   "source": [
    "#Convert sentiment labels to numerical values for modeling\n",
    "from sklearn.preprocessing import LabelEncoder\n",
    "label_encoder = LabelEncoder()\n",
    "drop_data['Genre_encoded'] = label_encoder.fit_transform(drop_data['Genre'])\n",
    "drop_data['Genre_encoded']\n",
    "\n",
    "class_names= list(label_encoder.classes_)\n",
    "class_names   "
   ]
  },
  {
   "cell_type": "code",
   "execution_count": 17,
   "id": "7da5b29f",
   "metadata": {
    "execution": {
     "iopub.execute_input": "2023-11-10T16:03:37.256706Z",
     "iopub.status.busy": "2023-11-10T16:03:37.256014Z",
     "iopub.status.idle": "2023-11-10T16:03:37.267628Z",
     "shell.execute_reply": "2023-11-10T16:03:37.266561Z"
    },
    "papermill": {
     "duration": 0.025061,
     "end_time": "2023-11-10T16:03:37.269843",
     "exception": false,
     "start_time": "2023-11-10T16:03:37.244782",
     "status": "completed"
    },
    "tags": []
   },
   "outputs": [
    {
     "data": {
      "text/html": [
       "<div>\n",
       "<style scoped>\n",
       "    .dataframe tbody tr th:only-of-type {\n",
       "        vertical-align: middle;\n",
       "    }\n",
       "\n",
       "    .dataframe tbody tr th {\n",
       "        vertical-align: top;\n",
       "    }\n",
       "\n",
       "    .dataframe thead th {\n",
       "        text-align: right;\n",
       "    }\n",
       "</style>\n",
       "<table border=\"1\" class=\"dataframe\">\n",
       "  <thead>\n",
       "    <tr style=\"text-align: right;\">\n",
       "      <th></th>\n",
       "      <th>Title</th>\n",
       "      <th>Genre</th>\n",
       "      <th>Description</th>\n",
       "      <th>Description_clean</th>\n",
       "      <th>Genre_encoded</th>\n",
       "    </tr>\n",
       "  </thead>\n",
       "  <tbody>\n",
       "    <tr>\n",
       "      <th>0</th>\n",
       "      <td>Oscar et la dame rose (2009)</td>\n",
       "      <td>drama</td>\n",
       "      <td>Listening in to a conversation between his do...</td>\n",
       "      <td>listening conversation doctor parents 10yearol...</td>\n",
       "      <td>8</td>\n",
       "    </tr>\n",
       "    <tr>\n",
       "      <th>1</th>\n",
       "      <td>Cupid (1997)</td>\n",
       "      <td>thriller</td>\n",
       "      <td>A brother and sister with a past incestuous r...</td>\n",
       "      <td>brother sister past incestuous relationship cu...</td>\n",
       "      <td>24</td>\n",
       "    </tr>\n",
       "    <tr>\n",
       "      <th>2</th>\n",
       "      <td>Young, Wild and Wonderful (1980)</td>\n",
       "      <td>adult</td>\n",
       "      <td>As the bus empties the students for their fie...</td>\n",
       "      <td>bus empties students field trip museum natural...</td>\n",
       "      <td>1</td>\n",
       "    </tr>\n",
       "    <tr>\n",
       "      <th>3</th>\n",
       "      <td>The Secret Sin (1915)</td>\n",
       "      <td>drama</td>\n",
       "      <td>To help their unemployed father make ends mee...</td>\n",
       "      <td>help unemployed father make ends meet edith tw...</td>\n",
       "      <td>8</td>\n",
       "    </tr>\n",
       "    <tr>\n",
       "      <th>4</th>\n",
       "      <td>The Unrecovered (2007)</td>\n",
       "      <td>drama</td>\n",
       "      <td>The film's title refers not only to the un-re...</td>\n",
       "      <td>films title refers unrecovered bodies ground z...</td>\n",
       "      <td>8</td>\n",
       "    </tr>\n",
       "  </tbody>\n",
       "</table>\n",
       "</div>"
      ],
      "text/plain": [
       "                                Title       Genre  \\\n",
       "0       Oscar et la dame rose (2009)       drama    \n",
       "1                       Cupid (1997)    thriller    \n",
       "2   Young, Wild and Wonderful (1980)       adult    \n",
       "3              The Secret Sin (1915)       drama    \n",
       "4             The Unrecovered (2007)       drama    \n",
       "\n",
       "                                         Description  \\\n",
       "0   Listening in to a conversation between his do...   \n",
       "1   A brother and sister with a past incestuous r...   \n",
       "2   As the bus empties the students for their fie...   \n",
       "3   To help their unemployed father make ends mee...   \n",
       "4   The film's title refers not only to the un-re...   \n",
       "\n",
       "                                   Description_clean  Genre_encoded  \n",
       "0  listening conversation doctor parents 10yearol...              8  \n",
       "1  brother sister past incestuous relationship cu...             24  \n",
       "2  bus empties students field trip museum natural...              1  \n",
       "3  help unemployed father make ends meet edith tw...              8  \n",
       "4  films title refers unrecovered bodies ground z...              8  "
      ]
     },
     "execution_count": 17,
     "metadata": {},
     "output_type": "execute_result"
    }
   ],
   "source": [
    "drop_data.head()"
   ]
  },
  {
   "cell_type": "code",
   "execution_count": 18,
   "id": "8629abe5",
   "metadata": {
    "execution": {
     "iopub.execute_input": "2023-11-10T16:03:37.292092Z",
     "iopub.status.busy": "2023-11-10T16:03:37.291312Z",
     "iopub.status.idle": "2023-11-10T16:03:37.298239Z",
     "shell.execute_reply": "2023-11-10T16:03:37.297469Z"
    },
    "papermill": {
     "duration": 0.020767,
     "end_time": "2023-11-10T16:03:37.300350",
     "exception": false,
     "start_time": "2023-11-10T16:03:37.279583",
     "status": "completed"
    },
    "tags": []
   },
   "outputs": [],
   "source": [
    "## Split the data\n",
    "x = drop_data[\"Description_clean\"]\n",
    "y = drop_data[\"Genre\"]\n",
    "\n",
    "x_train ,x_test ,y_train ,y_test = train_test_split(x ,y ,test_size = 0.2)"
   ]
  },
  {
   "cell_type": "code",
   "execution_count": 19,
   "id": "3fff928a",
   "metadata": {
    "execution": {
     "iopub.execute_input": "2023-11-10T16:03:37.322083Z",
     "iopub.status.busy": "2023-11-10T16:03:37.321453Z",
     "iopub.status.idle": "2023-11-10T16:03:37.760078Z",
     "shell.execute_reply": "2023-11-10T16:03:37.758747Z"
    },
    "papermill": {
     "duration": 0.452696,
     "end_time": "2023-11-10T16:03:37.762871",
     "exception": false,
     "start_time": "2023-11-10T16:03:37.310175",
     "status": "completed"
    },
    "tags": []
   },
   "outputs": [],
   "source": [
    "#Model training using CountVectorizer technique\n",
    "vectorize = CountVectorizer()\n",
    "x_train1 = vectorize.fit_transform(x_train)\n",
    "x_test1 =  vectorize.transform(x_test)"
   ]
  },
  {
   "cell_type": "code",
   "execution_count": 20,
   "id": "7f9071f8",
   "metadata": {
    "execution": {
     "iopub.execute_input": "2023-11-10T16:03:37.785146Z",
     "iopub.status.busy": "2023-11-10T16:03:37.784521Z",
     "iopub.status.idle": "2023-11-10T16:03:39.685388Z",
     "shell.execute_reply": "2023-11-10T16:03:39.684323Z"
    },
    "papermill": {
     "duration": 1.915503,
     "end_time": "2023-11-10T16:03:39.688608",
     "exception": false,
     "start_time": "2023-11-10T16:03:37.773105",
     "status": "completed"
    },
    "tags": []
   },
   "outputs": [
    {
     "name": "stdout",
     "output_type": "stream",
     "text": [
      "Model Score on Training data 0.7547916666666666\n",
      "Model Score on Training data 0.4691666666666667\n",
      "               precision    recall  f1-score   support\n",
      "\n",
      "      action        0.00      0.00      0.00         0\n",
      "       adult        0.00      0.00      0.00         0\n",
      "   adventure        0.00      0.00      0.00         0\n",
      "   animation        0.00      0.00      0.00         0\n",
      "   biography        0.00      0.00      0.00         0\n",
      "      comedy        0.25      0.43      0.32        95\n",
      "       crime        0.00      0.00      0.00         0\n",
      " documentary        0.88      0.54      0.67       454\n",
      "       drama        0.82      0.42      0.56       636\n",
      "      family        0.00      0.00      0.00         0\n",
      "     fantasy        0.00      0.00      0.00         0\n",
      "   game-show        0.00      0.00      0.00         0\n",
      "     history        0.00      0.00      0.00         0\n",
      "      horror        0.00      0.00      0.00         0\n",
      "       music        0.00      0.00      0.00         0\n",
      "     musical        0.00      0.00      0.00         0\n",
      "     mystery        0.00      0.00      0.00         0\n",
      "        news        0.00      0.00      0.00         0\n",
      "  reality-tv        0.00      0.00      0.00         0\n",
      "     romance        0.00      0.00      0.00         0\n",
      "      sci-fi        0.00      0.00      0.00         0\n",
      "       short        0.00      0.00      0.00         2\n",
      "       sport        0.17      0.50      0.25         2\n",
      "   talk-show        0.00      0.00      0.00         0\n",
      "    thriller        0.00      0.00      0.00         1\n",
      "         war        0.00      0.00      0.00         0\n",
      "     western        0.36      0.90      0.51        10\n",
      "\n",
      "     accuracy                           0.47      1200\n",
      "    macro avg       0.09      0.10      0.09      1200\n",
      " weighted avg       0.79      0.47      0.58      1200\n",
      "\n"
     ]
    },
    {
     "name": "stderr",
     "output_type": "stream",
     "text": [
      "/opt/conda/lib/python3.10/site-packages/sklearn/metrics/_classification.py:1344: UndefinedMetricWarning: Recall and F-score are ill-defined and being set to 0.0 in labels with no true samples. Use `zero_division` parameter to control this behavior.\n",
      "  _warn_prf(average, modifier, msg_start, len(result))\n",
      "/opt/conda/lib/python3.10/site-packages/sklearn/metrics/_classification.py:1344: UndefinedMetricWarning: Recall and F-score are ill-defined and being set to 0.0 in labels with no true samples. Use `zero_division` parameter to control this behavior.\n",
      "  _warn_prf(average, modifier, msg_start, len(result))\n",
      "/opt/conda/lib/python3.10/site-packages/sklearn/metrics/_classification.py:1344: UndefinedMetricWarning: Recall and F-score are ill-defined and being set to 0.0 in labels with no true samples. Use `zero_division` parameter to control this behavior.\n",
      "  _warn_prf(average, modifier, msg_start, len(result))\n"
     ]
    },
    {
     "data": {
      "image/png": "[encoded data removed]",
      "text/plain": [
       "<Figure size 1500x1500 with 1 Axes>"
      ]
     },
     "metadata": {},
     "output_type": "display_data"
    }
   ],
   "source": [
    "mnb = MultinomialNB()\n",
    "mnb.fit(x_train1 ,y_train)\n",
    "print(\"Model Score on Training data\",mnb.score(x_train1 ,y_train))\n",
    "print(\"Model Score on Training data\",mnb.score(x_test1 ,y_test))\n",
    "y_pred = mnb.predict(x_test1)\n",
    "\n",
    "print(classification_report(y_pred ,y_test))\n",
    " \n",
    "cm = confusion_matrix(y_test, y_pred)\n",
    "\n",
    "plt.figure(figsize=(15, 15))  # Adjust the figure size as needed\n",
    "sns.heatmap(cm, annot=True, fmt='d', cbar=False, \n",
    "            xticklabels=class_names, yticklabels=class_names)  # Replace 'class_names' with your class labels\n",
    "plt.xlabel('Predicted Labels')\n",
    "plt.ylabel('True Labels')\n",
    "plt.title('Confusion Matrix Heatmap')\n",
    "plt.show() "
   ]
  },
  {
   "cell_type": "code",
   "execution_count": 21,
   "id": "17f432fe",
   "metadata": {
    "execution": {
     "iopub.execute_input": "2023-11-10T16:03:39.713747Z",
     "iopub.status.busy": "2023-11-10T16:03:39.712917Z",
     "iopub.status.idle": "2023-11-10T16:03:40.316558Z",
     "shell.execute_reply": "2023-11-10T16:03:40.315402Z"
    },
    "papermill": {
     "duration": 0.618979,
     "end_time": "2023-11-10T16:03:40.319115",
     "exception": false,
     "start_time": "2023-11-10T16:03:39.700136",
     "status": "completed"
    },
    "tags": []
   },
   "outputs": [],
   "source": [
    "v = TfidfVectorizer()\n",
    "transformed_output=v.fit_transform(train_data['Description_clean'])"
   ]
  },
  {
   "cell_type": "code",
   "execution_count": 22,
   "id": "42285e55",
   "metadata": {
    "execution": {
     "iopub.execute_input": "2023-11-10T16:03:40.345761Z",
     "iopub.status.busy": "2023-11-10T16:03:40.345380Z",
     "iopub.status.idle": "2023-11-10T16:03:40.354819Z",
     "shell.execute_reply": "2023-11-10T16:03:40.353737Z"
    },
    "papermill": {
     "duration": 0.025752,
     "end_time": "2023-11-10T16:03:40.357147",
     "exception": false,
     "start_time": "2023-11-10T16:03:40.331395",
     "status": "completed"
    },
    "tags": []
   },
   "outputs": [],
   "source": [
    "y=train_data[\"Genre\"]\n",
    "X=transformed_output\n",
    "X_train, X_test, y_train,y_test = train_test_split(\n",
    "X,y,test_size=0.2,random_state=1)"
   ]
  },
  {
   "cell_type": "code",
   "execution_count": 23,
   "id": "2e1a5296",
   "metadata": {
    "execution": {
     "iopub.execute_input": "2023-11-10T16:03:40.382970Z",
     "iopub.status.busy": "2023-11-10T16:03:40.381891Z",
     "iopub.status.idle": "2023-11-10T16:04:18.964508Z",
     "shell.execute_reply": "2023-11-10T16:04:18.963440Z"
    },
    "papermill": {
     "duration": 38.607624,
     "end_time": "2023-11-10T16:04:18.976452",
     "exception": false,
     "start_time": "2023-11-10T16:03:40.368828",
     "status": "completed"
    },
    "tags": []
   },
   "outputs": [
    {
     "data": {
      "text/html": [
       "<style>#sk-container-id-1 {color: black;background-color: white;}#sk-container-id-1 pre{padding: 0;}#sk-container-id-1 div.sk-toggleable {background-color: white;}#sk-container-id-1 label.sk-toggleable__label {cursor: pointer;display: block;width: 100%;margin-bottom: 0;padding: 0.3em;box-sizing: border-box;text-align: center;}#sk-container-id-1 label.sk-toggleable__label-arrow:before {content: \"▸\";float: left;margin-right: 0.25em;color: #696969;}#sk-container-id-1 label.sk-toggleable__label-arrow:hover:before {color: black;}#sk-container-id-1 div.sk-estimator:hover label.sk-toggleable__label-arrow:before {color: black;}#sk-container-id-1 div.sk-toggleable__content {max-height: 0;max-width: 0;overflow: hidden;text-align: left;background-color: #f0f8ff;}#sk-container-id-1 div.sk-toggleable__content pre {margin: 0.2em;color: black;border-radius: 0.25em;background-color: #f0f8ff;}#sk-container-id-1 input.sk-toggleable__control:checked~div.sk-toggleable__content {max-height: 200px;max-width: 100%;overflow: auto;}#sk-container-id-1 input.sk-toggleable__control:checked~label.sk-toggleable__label-arrow:before {content: \"▾\";}#sk-container-id-1 div.sk-estimator input.sk-toggleable__control:checked~label.sk-toggleable__label {background-color: #d4ebff;}#sk-container-id-1 div.sk-label input.sk-toggleable__control:checked~label.sk-toggleable__label {background-color: #d4ebff;}#sk-container-id-1 input.sk-hidden--visually {border: 0;clip: rect(1px 1px 1px 1px);clip: rect(1px, 1px, 1px, 1px);height: 1px;margin: -1px;overflow: hidden;padding: 0;position: absolute;width: 1px;}#sk-container-id-1 div.sk-estimator {font-family: monospace;background-color: #f0f8ff;border: 1px dotted black;border-radius: 0.25em;box-sizing: border-box;margin-bottom: 0.5em;}#sk-container-id-1 div.sk-estimator:hover {background-color: #d4ebff;}#sk-container-id-1 div.sk-parallel-item::after {content: \"\";width: 100%;border-bottom: 1px solid gray;flex-grow: 1;}#sk-container-id-1 div.sk-label:hover label.sk-toggleable__label {background-color: #d4ebff;}#sk-container-id-1 div.sk-serial::before {content: \"\";position: absolute;border-left: 1px solid gray;box-sizing: border-box;top: 0;bottom: 0;left: 50%;z-index: 0;}#sk-container-id-1 div.sk-serial {display: flex;flex-direction: column;align-items: center;background-color: white;padding-right: 0.2em;padding-left: 0.2em;position: relative;}#sk-container-id-1 div.sk-item {position: relative;z-index: 1;}#sk-container-id-1 div.sk-parallel {display: flex;align-items: stretch;justify-content: center;background-color: white;position: relative;}#sk-container-id-1 div.sk-item::before, #sk-container-id-1 div.sk-parallel-item::before {content: \"\";position: absolute;border-left: 1px solid gray;box-sizing: border-box;top: 0;bottom: 0;left: 50%;z-index: -1;}#sk-container-id-1 div.sk-parallel-item {display: flex;flex-direction: column;z-index: 1;position: relative;background-color: white;}#sk-container-id-1 div.sk-parallel-item:first-child::after {align-self: flex-end;width: 50%;}#sk-container-id-1 div.sk-parallel-item:last-child::after {align-self: flex-start;width: 50%;}#sk-container-id-1 div.sk-parallel-item:only-child::after {width: 0;}#sk-container-id-1 div.sk-dashed-wrapped {border: 1px dashed gray;margin: 0 0.4em 0.5em 0.4em;box-sizing: border-box;padding-bottom: 0.4em;background-color: white;}#sk-container-id-1 div.sk-label label {font-family: monospace;font-weight: bold;display: inline-block;line-height: 1.2em;}#sk-container-id-1 div.sk-label-container {text-align: center;}#sk-container-id-1 div.sk-container {/* jupyter's `normalize.less` sets `[hidden] { display: none; }` but bootstrap.min.css set `[hidden] { display: none !important; }` so we also need the `!important` here to be able to override the default hidden behavior on the sphinx rendered scikit-learn.org. See: https://github.com/scikit-learn/scikit-learn/issues/21755 */display: inline-block !important;position: relative;}#sk-container-id-1 div.sk-text-repr-fallback {display: none;}</style><div id=\"sk-container-id-1\" class=\"sk-top-container\"><div class=\"sk-text-repr-fallback\"><pre>LogisticRegression(max_iter=1000)</pre><b>In a Jupyter environment, please rerun this cell to show the HTML representation or trust the notebook. <br />On GitHub, the HTML representation is unable to render, please try loading this page with nbviewer.org.</b></div><div class=\"sk-container\" hidden><div class=\"sk-item\"><div class=\"sk-estimator sk-toggleable\"><input class=\"sk-toggleable__control sk-hidden--visually\" id=\"sk-estimator-id-1\" type=\"checkbox\" checked><label for=\"sk-estimator-id-1\" class=\"sk-toggleable__label sk-toggleable__label-arrow\">LogisticRegression</label><div class=\"sk-toggleable__content\"><pre>LogisticRegression(max_iter=1000)</pre></div></div></div></div></div>"
      ],
      "text/plain": [
       "LogisticRegression(max_iter=1000)"
      ]
     },
     "execution_count": 23,
     "metadata": {},
     "output_type": "execute_result"
    }
   ],
   "source": [
    "#Logistic Regression Classifier\n",
    "from sklearn.linear_model import LogisticRegression\n",
    "lr=LogisticRegression(max_iter=1000)\n",
    "lr.fit(X_train,y_train)"
   ]
  },
  {
   "cell_type": "code",
   "execution_count": 24,
   "id": "072f29f2",
   "metadata": {
    "execution": {
     "iopub.execute_input": "2023-11-10T16:04:19.003245Z",
     "iopub.status.busy": "2023-11-10T16:04:19.001942Z",
     "iopub.status.idle": "2023-11-10T16:04:19.033763Z",
     "shell.execute_reply": "2023-11-10T16:04:19.032537Z"
    },
    "papermill": {
     "duration": 0.047395,
     "end_time": "2023-11-10T16:04:19.036019",
     "exception": false,
     "start_time": "2023-11-10T16:04:18.988624",
     "status": "completed"
    },
    "tags": []
   },
   "outputs": [
    {
     "name": "stdout",
     "output_type": "stream",
     "text": [
      "Accuracy of train : 0.6733333333333333\n",
      "Accuracy of test : 0.4825\n"
     ]
    }
   ],
   "source": [
    "from sklearn.metrics import accuracy_score\n",
    "y_pred_train_lr = lr.predict(X_train)\n",
    "y_pred_test_lr = lr.predict(X_test)\n",
    "# Transforming numerical labels back to genres\n",
    "#y_pred_train_genre = label_encoder.inverse_transform(y_pred_train_lr)\n",
    "#y_pred_train_genre = label_encoder.inverse_transform(y_pred_test_lr)\n",
    "\n",
    "accuracy_train_lr=accuracy_score(y_train,y_pred_train_lr)\n",
    "accuracy_test_lr=accuracy_score(y_test,y_pred_test_lr)\n",
    "print(f\"Accuracy of train : {accuracy_train_lr}\")\n",
    "print(f\"Accuracy of test : {accuracy_test_lr}\")"
   ]
  }
 ],
 "metadata": {
  "kaggle": {
   "accelerator": "none",
   "dataSources": [
    {
     "datasetId": 1417162,
     "sourceId": 2347441,
     "sourceType": "datasetVersion"
    }
   ],
   "dockerImageVersionId": 30558,
   "isGpuEnabled": false,
   "isInternetEnabled": true,
   "language": "python",
   "sourceType": "notebook"
  },
  "kernelspec": {
   "display_name": "Python 3",
   "language": "python",
   "name": "python3"
  },
  "language_info": {
   "codemirror_mode": {
    "name": "ipython",
    "version": 3
   },
   "file_extension": ".py",
   "mimetype": "text/x-python",
   "name": "python",
   "nbconvert_exporter": "python",
   "pygments_lexer": "ipython3",
   "version": "3.10.12"
  },
  "papermill": {
   "default_parameters": {},
   "duration": 85.4767,
   "end_time": "2023-11-10T16:04:19.769654",
   "environment_variables": {},
   "exception": null,
   "input_path": "__notebook__.ipynb",
   "output_path": "__notebook__.ipynb",
   "parameters": {},
   "start_time": "2023-11-10T16:02:54.292954",
   "version": "2.4.0"
  }
 },
 "nbformat": 4,
 "nbformat_minor": 5
}
